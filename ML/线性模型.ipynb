{
 "cells": [
  {
   "cell_type": "markdown",
   "metadata": {},
   "source": [
    "## Linear Regression 线性回归模型推导\n"
   ]
  },
  {
   "cell_type": "markdown",
   "metadata": {},
   "source": [
    "#### 最小二乘法\n",
    "\n",
    "\\begin{align*}\n",
    "L(W) &= \\sum_{i=1}^N \\| W^T x_i - y_i \\|^2 \\\\\n",
    "&= \\sum_{i=1}^N (W^T x_i - y_i)^2 \\\\\n",
    "&= \\left( W^T x_1 - y_1, W^T x_2 - y_2, \\dots, W^T x_N - y_N \\right)( W^T x_1 - y_1, W^T x_2 - y_2, \\dots, W^T x_N - y_N )^T \\\\\n",
    "&= \\left(( W^T x_1, W^T x_2, \\dots, W^T x_N \\right) - \\left( y_1, y_2, \\dots, y_N \\right))( W^T x_1 - y_1, W^T x_2 - y_2, \\dots, W^T x_N - y_N )^T \\\\\n",
    "&= (W^T \\begin{pmatrix} x_1, x_2, \\dots, x_N \\end{pmatrix} - \\begin{pmatrix} y_1, y_2, \\dots, y_N \\end{pmatrix})( W^T x_1 - y_1, W^T x_2 - y_2, \\dots, W^T x_N - y_N )^T \\\\\n",
    "&= (W^T X^T - Y^T)(XW - Y)\\\\\n",
    "\\end{align*}"
   ]
  }
 ],
 "metadata": {
  "language_info": {
   "name": "python"
  }
 },
 "nbformat": 4,
 "nbformat_minor": 2
}
