{
 "cells": [
  {
   "cell_type": "markdown",
   "metadata": {},
   "source": [
    "## Perceptron\n",
    "### 1.1 多维数组\n"
   ]
  },
  {
   "cell_type": "markdown",
   "metadata": {},
   "source": [
    "#### 矩阵乘法"
   ]
  },
  {
   "cell_type": "code",
   "execution_count": 80,
   "metadata": {},
   "outputs": [
    {
     "name": "stdout",
     "output_type": "stream",
     "text": [
      "(2, 2)\n",
      "(2, 2)\n",
      "[[19 22]\n",
      " [43 50]]\n"
     ]
    }
   ],
   "source": [
    "import numpy as np   \n",
    "\n",
    "A = np.array([[1, 2], [3, 4]])\n",
    "B = np.array([[5, 6], [7, 8]])\n",
    "print(A.shape)\n",
    "print(B.shape)\n",
    "\n",
    "C = np.dot(A, B)\n",
    "print(C)"
   ]
  },
  {
   "cell_type": "markdown",
   "metadata": {},
   "source": [
    "多位数组相乘， 如果对应维度元素个数不一致，会出现以下情况"
   ]
  },
  {
   "cell_type": "code",
   "execution_count": 81,
   "metadata": {},
   "outputs": [
    {
     "name": "stdout",
     "output_type": "stream",
     "text": [
      "(2, 2)\n",
      "(2, 3)\n"
     ]
    }
   ],
   "source": [
    "D = np.array([[1,2], [3,4]])\n",
    "print(D.shape)\n",
    "E = np.array([[5,6,7], [7,8,9]])\n",
    "print(E.shape)\n",
    "\n",
    "# F = np.dot(E, D)\n",
    "# print(F)"
   ]
  },
  {
   "cell_type": "markdown",
   "metadata": {},
   "source": [
    "### 1.2 简单三层神经网络实现\n",
    "#### Forward propagation \n",
    "输入层：3 个神经元， 隐藏层 hidden layer1: 4个神经元，hidden layer2: 3个神经元， 输出层: 3个神经元。 第一层的加权表示如下\n",
    "\n",
    "$$A^1 = W^1X^1+B^1$$\n",
    "隐藏层的激活函数为sigmoid"
   ]
  },
  {
   "cell_type": "code",
   "execution_count": 82,
   "metadata": {},
   "outputs": [
    {
     "name": "stdout",
     "output_type": "stream",
     "text": [
      "第一层的加权和： [[1.7 6.3 5.5 3.1]]\n",
      "layer1: [[0.84553473 0.99816706 0.99592986 0.95689275]]\n",
      "第二层的加权和： [[0.47965244 0.95930488 1.43895732]]\n",
      "layer2: [[0.6176658  0.72298261 0.80829313]]\n",
      "输出层： [[0.31489415 0.62978831 0.94468246]]\n",
      "layer3: [[0.57807942 0.65244146 0.72004452]]\n"
     ]
    }
   ],
   "source": [
    "X = np.array([[1, 5, 10]])\n",
    "W1 = np.array([[0.1, 0.1, 0.2, 0.7], [0.1, 0.2, 0.2, 0.2], [0.1, 0.5, 0.4, 0.1]])\n",
    "B1 = np.array([[0.1, 0.2, 0.3, 0.4]])\n",
    "\n",
    "A1 = np.dot(X, W1) + B1\n",
    "Z1 = 1 / (1 + np.exp(-A1))\n",
    "\n",
    "print(\"第一层的加权和：\",A1)\n",
    "print(\"layer1:\", Z1)\n",
    "\n",
    "W2 = np.array([[0.1, 0.2, 0.3], [0.1, 0.2, 0.3], [0.1, 0.2, 0.3], [0.1, 0.2, 0.3]])\n",
    "B2 = np.array([[0.1, 0.2, 0.3]])\n",
    "\n",
    "A2 = np.dot(Z1, W2) + B2\n",
    "Z2 = 1 / (1 + np.exp(-A2))\n",
    "\n",
    "print(\"第二层的加权和：\",A2)\n",
    "print(\"layer2:\", Z2)\n",
    "\n",
    "W3 = np.array([[0.1, 0.2, 0.3], [0.1, 0.2, 0.3], [0.1, 0.2, 0.3]])\n",
    "B3 = np.array([[0.1, 0.2, 0.3]])\n",
    "\n",
    "A3 = np.dot(Z2, W3) + B3\n",
    "y = 1 / (1 + np.exp(-A3))\n",
    "\n",
    "print(\"输出层：\",A3)\n",
    "print(\"layer3:\", y)\n"
   ]
  },
  {
   "cell_type": "markdown",
   "metadata": {},
   "source": []
  },
  {
   "cell_type": "code",
   "execution_count": null,
   "metadata": {},
   "outputs": [],
   "source": []
  }
 ],
 "metadata": {
  "kernelspec": {
   "display_name": "ml25",
   "language": "python",
   "name": "python3"
  },
  "language_info": {
   "codemirror_mode": {
    "name": "ipython",
    "version": 3
   },
   "file_extension": ".py",
   "mimetype": "text/x-python",
   "name": "python",
   "nbconvert_exporter": "python",
   "pygments_lexer": "ipython3",
   "version": "3.12.0"
  }
 },
 "nbformat": 4,
 "nbformat_minor": 2
}
